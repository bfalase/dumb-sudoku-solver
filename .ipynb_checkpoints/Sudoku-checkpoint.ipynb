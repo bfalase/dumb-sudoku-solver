{
 "cells": [
  {
   "cell_type": "code",
   "execution_count": 1,
   "metadata": {
    "collapsed": true
   },
   "outputs": [],
   "source": [
    "import numpy as np"
   ]
  },
  {
   "cell_type": "code",
   "execution_count": 2,
   "metadata": {
    "collapsed": true
   },
   "outputs": [],
   "source": [
    "game = np.zeros((9,9))"
   ]
  },
  {
   "cell_type": "code",
   "execution_count": 3,
   "metadata": {
    "collapsed": true
   },
   "outputs": [],
   "source": [
    "fillspots = [(1,2,5),(1,3,7),(1,4,6),(1,5,8),(1,8,4),\n",
    "            (2,5,7),(2,6,1),(2,7,5),\n",
    "            (3,1,3),(3,2,1),(3,3,8),(3,5,2),\n",
    "            (4,2,3),(4,4,4),\n",
    "            (5,1,4),(5,2,9),(5,3,6),(5,4,1),(5,6,5),(5,7,8),(5,8,7),(5,9,2),\n",
    "            (6,6,7),(6,8,9),\n",
    "            (7,5,5),(7,7,2),(7,8,1),(7,9,9),\n",
    "            (8,3,5),(8,4,9),(8,5,4),\n",
    "            (9,2,7),(9,5,1),(9,6,2),(9,7,4),(9,8,3)]"
   ]
  },
  {
   "cell_type": "code",
   "execution_count": 4,
   "metadata": {
    "collapsed": false
   },
   "outputs": [],
   "source": [
    "for points in fillspots:\n",
    "    rowPos, colPos, val = points\n",
    "    game[rowPos-1, colPos-1] = val"
   ]
  },
  {
   "cell_type": "code",
   "execution_count": 5,
   "metadata": {
    "collapsed": false
   },
   "outputs": [
    {
     "data": {
      "text/plain": [
       "array([[ 0.,  5.,  7.,  6.,  8.,  0.,  0.,  4.,  0.],\n",
       "       [ 0.,  0.,  0.,  0.,  7.,  1.,  5.,  0.,  0.],\n",
       "       [ 3.,  1.,  8.,  0.,  2.,  0.,  0.,  0.,  0.],\n",
       "       [ 0.,  3.,  0.,  4.,  0.,  0.,  0.,  0.,  0.],\n",
       "       [ 4.,  9.,  6.,  1.,  0.,  5.,  8.,  7.,  2.],\n",
       "       [ 0.,  0.,  0.,  0.,  0.,  7.,  0.,  9.,  0.],\n",
       "       [ 0.,  0.,  0.,  0.,  5.,  0.,  2.,  1.,  9.],\n",
       "       [ 0.,  0.,  5.,  9.,  4.,  0.,  0.,  0.,  0.],\n",
       "       [ 0.,  7.,  0.,  0.,  1.,  2.,  4.,  3.,  0.]])"
      ]
     },
     "execution_count": 5,
     "metadata": {},
     "output_type": "execute_result"
    }
   ],
   "source": [
    "game"
   ]
  },
  {
   "cell_type": "code",
   "execution_count": null,
   "metadata": {
    "collapsed": true
   },
   "outputs": [],
   "source": []
  }
 ],
 "metadata": {
  "kernelspec": {
   "display_name": "Python [conda root]",
   "language": "python",
   "name": "conda-root-py"
  },
  "language_info": {
   "codemirror_mode": {
    "name": "ipython",
    "version": 3
   },
   "file_extension": ".py",
   "mimetype": "text/x-python",
   "name": "python",
   "nbconvert_exporter": "python",
   "pygments_lexer": "ipython3",
   "version": "3.5.2"
  }
 },
 "nbformat": 4,
 "nbformat_minor": 2
}

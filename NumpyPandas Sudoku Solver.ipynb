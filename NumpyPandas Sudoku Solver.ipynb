{
 "cells": [
  {
   "cell_type": "code",
   "execution_count": 310,
   "metadata": {
    "collapsed": false
   },
   "outputs": [
    {
     "name": "stdout",
     "output_type": "stream",
     "text": [
      "(1, 81)\n"
     ]
    }
   ],
   "source": [
    "import numpy as np\n",
    "import sys\n",
    "import re\n",
    "import pandas as pd\n",
    "from collections import Counter, OrderedDict\n",
    "positions =\"\"\"\n",
    "        084060001\n",
    "        200095040\n",
    "        510408000\n",
    "        105000600\n",
    "        320010059\n",
    "        006000103\n",
    "        000607024\n",
    "        030950007\n",
    "        900020360\n",
    "\"\"\"\n",
    "normalGame = \"\"\"\n",
    "        007010000\n",
    "        039007400\n",
    "        040600027\n",
    "        300000600\n",
    "        060352010\n",
    "        004000002\n",
    "        150003070\n",
    "        003700150\n",
    "        000090200\n",
    "\"\"\"\n",
    "#load the game as a 1 row pd dataframe\n",
    "positions = [[int(item) for item in ''.join(re.findall(r\"\\d+\",positions))]]\n",
    "game = np.array(positions)\n",
    "print(game.shape)\n",
    "game = game.reshape((9,9))"
   ]
  },
  {
   "cell_type": "code",
   "execution_count": 309,
   "metadata": {
    "collapsed": false
   },
   "outputs": [
    {
     "data": {
      "text/plain": [
       "(9, 9)"
      ]
     },
     "execution_count": 309,
     "metadata": {},
     "output_type": "execute_result"
    }
   ],
   "source": [
    "game.shape"
   ]
  },
  {
   "cell_type": "code",
   "execution_count": 300,
   "metadata": {
    "collapsed": false
   },
   "outputs": [
    {
     "data": {
      "text/plain": [
       "array([[7, 8, 4, 2, 6, 3, 5, 9, 1],\n",
       "       [2, 6, 3, 1, 9, 5, 7, 4, 8],\n",
       "       [5, 1, 9, 4, 7, 8, 2, 3, 6],\n",
       "       [1, 7, 5, 3, 4, 9, 6, 8, 2],\n",
       "       [3, 2, 8, 7, 1, 6, 4, 5, 9],\n",
       "       [4, 9, 6, 5, 8, 2, 1, 7, 3],\n",
       "       [8, 5, 1, 6, 3, 7, 9, 2, 4],\n",
       "       [6, 3, 2, 9, 5, 4, 8, 1, 7],\n",
       "       [9, 4, 7, 8, 2, 1, 3, 6, 5]])"
      ]
     },
     "execution_count": 300,
     "metadata": {},
     "output_type": "execute_result"
    }
   ],
   "source": [
    "reshaped_game = game.reshape((9,9))\n",
    "reshaped_game"
   ]
  },
  {
   "cell_type": "code",
   "execution_count": 296,
   "metadata": {
    "collapsed": true
   },
   "outputs": [],
   "source": [
    "def allPossibleMoves(reshaped_game):\n",
    "    #reshaped_game is a 9x9 game\n",
    "    possibleMovesDict = OrderedDict()\n",
    "    #fill possibleMovesDict at position with valid moves\n",
    "    for rowIndex, row in enumerate(reshaped_game):\n",
    "        for colIndex, col in enumerate(row):\n",
    "            if reshaped_game[rowIndex,colIndex] != 0:\n",
    "                possibleMovesDict[rowIndex,colIndex] = reshaped_game[rowIndex,colIndex]\n",
    "            else:\n",
    "                possibleMovesDict[rowIndex,colIndex] = []\n",
    "                for value in range(1,10):\n",
    "                    if validatenumber((rowIndex,colIndex), value, reshaped_game):\n",
    "                        possibleMovesDict[(rowIndex,colIndex)].append(value)\n",
    "    return possibleMovesDict"
   ]
  },
  {
   "cell_type": "code",
   "execution_count": 297,
   "metadata": {
    "collapsed": false
   },
   "outputs": [
    {
     "data": {
      "text/plain": [
       "OrderedDict([((0, 0), [7]),\n",
       "             ((0, 1), 8),\n",
       "             ((0, 2), 4),\n",
       "             ((0, 3), [2, 3, 7]),\n",
       "             ((0, 4), 6),\n",
       "             ((0, 5), [2, 3]),\n",
       "             ((0, 6), [2, 5, 7, 9]),\n",
       "             ((0, 7), [3, 7, 9]),\n",
       "             ((0, 8), 1),\n",
       "             ((1, 0), 2),\n",
       "             ((1, 1), [6, 7]),\n",
       "             ((1, 2), [3, 7]),\n",
       "             ((1, 3), [1, 3, 7]),\n",
       "             ((1, 4), 9),\n",
       "             ((1, 5), 5),\n",
       "             ((1, 6), [7, 8]),\n",
       "             ((1, 7), 4),\n",
       "             ((1, 8), [6, 8]),\n",
       "             ((2, 0), 5),\n",
       "             ((2, 1), 1),\n",
       "             ((2, 2), [3, 7, 9]),\n",
       "             ((2, 3), 4),\n",
       "             ((2, 4), [3, 7]),\n",
       "             ((2, 5), 8),\n",
       "             ((2, 6), [2, 7, 9]),\n",
       "             ((2, 7), [3, 7, 9]),\n",
       "             ((2, 8), [2, 6]),\n",
       "             ((3, 0), 1),\n",
       "             ((3, 1), [4, 7, 9]),\n",
       "             ((3, 2), 5),\n",
       "             ((3, 3), [2, 3, 7, 8]),\n",
       "             ((3, 4), [3, 4, 7, 8]),\n",
       "             ((3, 5), [2, 3, 4, 9]),\n",
       "             ((3, 6), 6),\n",
       "             ((3, 7), [7, 8]),\n",
       "             ((3, 8), [2, 8]),\n",
       "             ((4, 0), 3),\n",
       "             ((4, 1), 2),\n",
       "             ((4, 2), [7, 8]),\n",
       "             ((4, 3), [7, 8]),\n",
       "             ((4, 4), 1),\n",
       "             ((4, 5), [4, 6]),\n",
       "             ((4, 6), [4, 7, 8]),\n",
       "             ((4, 7), 5),\n",
       "             ((4, 8), 9),\n",
       "             ((5, 0), [4, 7, 8]),\n",
       "             ((5, 1), [4, 7, 9]),\n",
       "             ((5, 2), 6),\n",
       "             ((5, 3), [2, 5, 7, 8]),\n",
       "             ((5, 4), [4, 7, 8]),\n",
       "             ((5, 5), [2, 4, 9]),\n",
       "             ((5, 6), 1),\n",
       "             ((5, 7), [7, 8]),\n",
       "             ((5, 8), 3),\n",
       "             ((6, 0), [8]),\n",
       "             ((6, 1), [5]),\n",
       "             ((6, 2), [1, 8]),\n",
       "             ((6, 3), 6),\n",
       "             ((6, 4), [3, 8]),\n",
       "             ((6, 5), 7),\n",
       "             ((6, 6), [5, 8, 9]),\n",
       "             ((6, 7), 2),\n",
       "             ((6, 8), 4),\n",
       "             ((7, 0), [4, 6, 8]),\n",
       "             ((7, 1), 3),\n",
       "             ((7, 2), [1, 2, 8]),\n",
       "             ((7, 3), 9),\n",
       "             ((7, 4), 5),\n",
       "             ((7, 5), [1, 4]),\n",
       "             ((7, 6), [8]),\n",
       "             ((7, 7), [1, 8]),\n",
       "             ((7, 8), 7),\n",
       "             ((8, 0), 9),\n",
       "             ((8, 1), [4, 5, 7]),\n",
       "             ((8, 2), [1, 7, 8]),\n",
       "             ((8, 3), [1, 8]),\n",
       "             ((8, 4), 2),\n",
       "             ((8, 5), [1, 4]),\n",
       "             ((8, 6), 3),\n",
       "             ((8, 7), 6),\n",
       "             ((8, 8), [5, 8])])"
      ]
     },
     "execution_count": 297,
     "metadata": {},
     "output_type": "execute_result"
    }
   ],
   "source": [
    "allPossibleMoves(game)"
   ]
  },
  {
   "cell_type": "code",
   "execution_count": null,
   "metadata": {
    "collapsed": true
   },
   "outputs": [],
   "source": []
  },
  {
   "cell_type": "code",
   "execution_count": 444,
   "metadata": {
    "collapsed": true
   },
   "outputs": [],
   "source": [
    "def checkForDuplicates(array):\n",
    "    \"\"\"Utility Function.\n",
    "    Arguments:\n",
    "                array: Numpy array\n",
    "    Returns:\n",
    "        Boolean. False if there are no duplicate values in the array. True if there are\n",
    "        \"\"\"\n",
    "    flatArray = array.flatten()\n",
    "    duplicates = [item for item, count in Counter(flatArray).items() if count > 1]\n",
    "    if 0 in duplicates:\n",
    "        duplicates.remove(0)\n",
    "    if len(duplicates) > 0:\n",
    "        return True\n",
    "    else: return False \n",
    "def flattenRowColumnandCube(position, copied_game_with_number_set_for_testing):\n",
    "    \"\"\"Utility function.\n",
    "    Arguments:\n",
    "                position: Tuple pair of integers\n",
    "    Returns:\n",
    "                flatRow, flatCol, FlatCube: flat (9,) array\n",
    "    \"\"\"\n",
    "    #Get a row and column array\n",
    "    gameRow, gameCol = position\n",
    "    tempGameRow = copied_game_with_number_set_for_testing[gameRow, :]\n",
    "    tempGameCol = copied_game_with_number_set_for_testing[:, gameCol]\n",
    "    #get the 9 member square location into its own array\n",
    "    if gameRow >= 0 and gameRow <= 2 and gameCol >= 0 and gameCol <= 2:\n",
    "        tempGameCube = copied_game_with_number_set_for_testing[0:3, 0:3]\n",
    "    elif gameRow >= 0 and gameRow <= 2 and gameCol >= 3 and gameCol <= 5:\n",
    "        tempGameCube = copied_game_with_number_set_for_testing[0:3, 3:6]\n",
    "    elif gameRow >= 0 and gameRow <= 2 and gameCol >= 6 and gameCol <= 9:\n",
    "        tempGameCube = copied_game_with_number_set_for_testing[0:3, 6:9]\n",
    "    elif gameRow >= 3 and gameRow <= 5 and gameCol >= 0 and gameCol <= 2:\n",
    "        tempGameCube = copied_game_with_number_set_for_testing[3:6, 0:3]\n",
    "    elif gameRow >= 3 and gameRow <= 5 and gameCol >= 3 and gameCol <= 5:\n",
    "        tempGameCube = copied_game_with_number_set_for_testing[3:6, 3:6]\n",
    "    elif gameRow >= 3 and gameRow <= 5 and gameCol >= 6 and gameCol <= 9:\n",
    "        tempGameCube = copied_game_with_number_set_for_testing[3:6, 6:9]\n",
    "    elif gameRow >= 6 and gameRow <= 8 and gameCol >= 0 and gameCol <= 2:\n",
    "        tempGameCube = copied_game_with_number_set_for_testing[6:9, 0:3]\n",
    "    elif gameRow >= 6 and gameRow <= 8 and gameCol >= 3 and gameCol <= 5:\n",
    "        tempGameCube = copied_game_with_number_set_for_testing[6:9, 3:6]\n",
    "    elif gameRow >= 6 and gameRow <= 8 and gameCol >= 6 and gameCol <= 9:\n",
    "        tempGameCube = copied_game_with_number_set_for_testing[6:9, 6:9]\n",
    "    return tempGameRow.flatten(), tempGameCol.flatten(), tempGameCube.flatten()\n",
    "def copy_game_set_number_for_testing(position, value, tempGame):\n",
    "    temporaryGame = tempGame.copy()\n",
    "    gameRow, gameCol = position\n",
    "    temporaryGame[gameRow, gameCol] = value\n",
    "    return temporaryGame\n",
    "def validatenumber(position, value, reshaped_game):\n",
    "    \"\"\"Utility function. \n",
    "    Arguments: \n",
    "                Position: Tuple pair of integers\n",
    "                Value: Integer. Tentative value to be played\n",
    "    Returns:\n",
    "                validNumber: Boolean. True if value is valid to play in position. False if value is illegal\n",
    "    \"\"\"\n",
    "    copied_game_with_number_set_for_testing = copy_game_set_number_for_testing(position, value, reshaped_game)\n",
    "    flatRow, flatCol, flatCube = flattenRowColumnandCube(position, copied_game_with_number_set_for_testing)\n",
    "    if not checkForDuplicates(flatRow) and not checkForDuplicates(flatCol) and not checkForDuplicates(flatCube):\n",
    "        return True\n",
    "    else: return False\n",
    "def checkGame(game):\n",
    "    #takes game as a 9x9 game\n",
    "    for rowPosition in range(game.shape[0]):\n",
    "        for colPosition in range(game.shape[1]):\n",
    "            convertRow, convertCol = convert1x81Coordto9x9(value)\n",
    "            if not validatenumber(convert1x81Coordto9x9(colposition), game[convertRow, convertCol], game):\n",
    "                return False\n",
    "    return True"
   ]
  },
  {
   "cell_type": "code",
   "execution_count": 457,
   "metadata": {
    "collapsed": false
   },
   "outputs": [
    {
     "ename": "IndexError",
     "evalue": "('tuple index out of range', 'occurred at index 0')",
     "output_type": "error",
     "traceback": [
      "\u001b[0;31m---------------------------------------------------------------------------\u001b[0m",
      "\u001b[0;31mIndexError\u001b[0m                                Traceback (most recent call last)",
      "\u001b[0;32m<ipython-input-457-0fa9db3c4488>\u001b[0m in \u001b[0;36m<module>\u001b[0;34m()\u001b[0m\n\u001b[0;32m----> 1\u001b[0;31m \u001b[0mnewcombos\u001b[0m\u001b[0;34m.\u001b[0m\u001b[0mapply\u001b[0m\u001b[0;34m(\u001b[0m\u001b[0mcheckGame\u001b[0m\u001b[0;34m)\u001b[0m\u001b[0;34m\u001b[0m\u001b[0m\n\u001b[0m",
      "\u001b[0;32m/Users/bfalase/anaconda/lib/python3.5/site-packages/pandas/core/frame.py\u001b[0m in \u001b[0;36mapply\u001b[0;34m(self, func, axis, broadcast, raw, reduce, args, **kwds)\u001b[0m\n\u001b[1;32m   4150\u001b[0m                     \u001b[0;32mif\u001b[0m \u001b[0mreduce\u001b[0m \u001b[0;32mis\u001b[0m \u001b[0;32mNone\u001b[0m\u001b[0;34m:\u001b[0m\u001b[0;34m\u001b[0m\u001b[0m\n\u001b[1;32m   4151\u001b[0m                         \u001b[0mreduce\u001b[0m \u001b[0;34m=\u001b[0m \u001b[0;32mTrue\u001b[0m\u001b[0;34m\u001b[0m\u001b[0m\n\u001b[0;32m-> 4152\u001b[0;31m                     \u001b[0;32mreturn\u001b[0m \u001b[0mself\u001b[0m\u001b[0;34m.\u001b[0m\u001b[0m_apply_standard\u001b[0m\u001b[0;34m(\u001b[0m\u001b[0mf\u001b[0m\u001b[0;34m,\u001b[0m \u001b[0maxis\u001b[0m\u001b[0;34m,\u001b[0m \u001b[0mreduce\u001b[0m\u001b[0;34m=\u001b[0m\u001b[0mreduce\u001b[0m\u001b[0;34m)\u001b[0m\u001b[0;34m\u001b[0m\u001b[0m\n\u001b[0m\u001b[1;32m   4153\u001b[0m             \u001b[0;32melse\u001b[0m\u001b[0;34m:\u001b[0m\u001b[0;34m\u001b[0m\u001b[0m\n\u001b[1;32m   4154\u001b[0m                 \u001b[0;32mreturn\u001b[0m \u001b[0mself\u001b[0m\u001b[0;34m.\u001b[0m\u001b[0m_apply_broadcast\u001b[0m\u001b[0;34m(\u001b[0m\u001b[0mf\u001b[0m\u001b[0;34m,\u001b[0m \u001b[0maxis\u001b[0m\u001b[0;34m)\u001b[0m\u001b[0;34m\u001b[0m\u001b[0m\n",
      "\u001b[0;32m/Users/bfalase/anaconda/lib/python3.5/site-packages/pandas/core/frame.py\u001b[0m in \u001b[0;36m_apply_standard\u001b[0;34m(self, func, axis, ignore_failures, reduce)\u001b[0m\n\u001b[1;32m   4246\u001b[0m             \u001b[0;32mtry\u001b[0m\u001b[0;34m:\u001b[0m\u001b[0;34m\u001b[0m\u001b[0m\n\u001b[1;32m   4247\u001b[0m                 \u001b[0;32mfor\u001b[0m \u001b[0mi\u001b[0m\u001b[0;34m,\u001b[0m \u001b[0mv\u001b[0m \u001b[0;32min\u001b[0m \u001b[0menumerate\u001b[0m\u001b[0;34m(\u001b[0m\u001b[0mseries_gen\u001b[0m\u001b[0;34m)\u001b[0m\u001b[0;34m:\u001b[0m\u001b[0;34m\u001b[0m\u001b[0m\n\u001b[0;32m-> 4248\u001b[0;31m                     \u001b[0mresults\u001b[0m\u001b[0;34m[\u001b[0m\u001b[0mi\u001b[0m\u001b[0;34m]\u001b[0m \u001b[0;34m=\u001b[0m \u001b[0mfunc\u001b[0m\u001b[0;34m(\u001b[0m\u001b[0mv\u001b[0m\u001b[0;34m)\u001b[0m\u001b[0;34m\u001b[0m\u001b[0m\n\u001b[0m\u001b[1;32m   4249\u001b[0m                     \u001b[0mkeys\u001b[0m\u001b[0;34m.\u001b[0m\u001b[0mappend\u001b[0m\u001b[0;34m(\u001b[0m\u001b[0mv\u001b[0m\u001b[0;34m.\u001b[0m\u001b[0mname\u001b[0m\u001b[0;34m)\u001b[0m\u001b[0;34m\u001b[0m\u001b[0m\n\u001b[1;32m   4250\u001b[0m             \u001b[0;32mexcept\u001b[0m \u001b[0mException\u001b[0m \u001b[0;32mas\u001b[0m \u001b[0me\u001b[0m\u001b[0;34m:\u001b[0m\u001b[0;34m\u001b[0m\u001b[0m\n",
      "\u001b[0;32m<ipython-input-444-5ba443ef27f9>\u001b[0m in \u001b[0;36mcheckGame\u001b[0;34m(game)\u001b[0m\n\u001b[1;32m     65\u001b[0m     \u001b[0;31m#takes game as a 9x9 game\u001b[0m\u001b[0;34m\u001b[0m\u001b[0;34m\u001b[0m\u001b[0m\n\u001b[1;32m     66\u001b[0m     \u001b[0;32mfor\u001b[0m \u001b[0mrowPosition\u001b[0m \u001b[0;32min\u001b[0m \u001b[0mrange\u001b[0m\u001b[0;34m(\u001b[0m\u001b[0mgame\u001b[0m\u001b[0;34m.\u001b[0m\u001b[0mshape\u001b[0m\u001b[0;34m[\u001b[0m\u001b[0;36m0\u001b[0m\u001b[0;34m]\u001b[0m\u001b[0;34m)\u001b[0m\u001b[0;34m:\u001b[0m\u001b[0;34m\u001b[0m\u001b[0m\n\u001b[0;32m---> 67\u001b[0;31m         \u001b[0;32mfor\u001b[0m \u001b[0mcolPosition\u001b[0m \u001b[0;32min\u001b[0m \u001b[0mrange\u001b[0m\u001b[0;34m(\u001b[0m\u001b[0mgame\u001b[0m\u001b[0;34m.\u001b[0m\u001b[0mshape\u001b[0m\u001b[0;34m[\u001b[0m\u001b[0;36m1\u001b[0m\u001b[0;34m]\u001b[0m\u001b[0;34m)\u001b[0m\u001b[0;34m:\u001b[0m\u001b[0;34m\u001b[0m\u001b[0m\n\u001b[0m\u001b[1;32m     68\u001b[0m             \u001b[0mconvertRow\u001b[0m\u001b[0;34m,\u001b[0m \u001b[0mconvertCol\u001b[0m \u001b[0;34m=\u001b[0m \u001b[0mconvert1x81Coordto9x9\u001b[0m\u001b[0;34m(\u001b[0m\u001b[0mvalue\u001b[0m\u001b[0;34m)\u001b[0m\u001b[0;34m\u001b[0m\u001b[0m\n\u001b[1;32m     69\u001b[0m             \u001b[0;32mif\u001b[0m \u001b[0;32mnot\u001b[0m \u001b[0mvalidatenumber\u001b[0m\u001b[0;34m(\u001b[0m\u001b[0mconvert1x81Coordto9x9\u001b[0m\u001b[0;34m(\u001b[0m\u001b[0mcolposition\u001b[0m\u001b[0;34m)\u001b[0m\u001b[0;34m,\u001b[0m \u001b[0mgame\u001b[0m\u001b[0;34m[\u001b[0m\u001b[0mconvertRow\u001b[0m\u001b[0;34m,\u001b[0m \u001b[0mconvertCol\u001b[0m\u001b[0;34m]\u001b[0m\u001b[0;34m,\u001b[0m \u001b[0mgame\u001b[0m\u001b[0;34m)\u001b[0m\u001b[0;34m:\u001b[0m\u001b[0;34m\u001b[0m\u001b[0m\n",
      "\u001b[0;31mIndexError\u001b[0m: ('tuple index out of range', 'occurred at index 0')"
     ]
    }
   ],
   "source": [
    "newcombos.apply(checkGame)"
   ]
  },
  {
   "cell_type": "code",
   "execution_count": 299,
   "metadata": {
    "collapsed": false
   },
   "outputs": [
    {
     "name": "stdout",
     "output_type": "stream",
     "text": [
      "Was able to fill in 46 moves\n"
     ]
    }
   ],
   "source": [
    "continueLooping = True\n",
    "filledGame = game.copy()\n",
    "valueCounter = 0\n",
    "possibleMovesDict = allPossibleMoves(filledGame)\n",
    "while continueLooping:\n",
    "    tempGame = filledGame.copy()\n",
    "    counter = 0\n",
    "    possibleMovesDict = allPossibleMoves(tempGame)\n",
    "    for coordinate in possibleMovesDict.keys():\n",
    "        rowVal, colVal = coordinate\n",
    "        if isinstance(possibleMovesDict[coordinate], list) and len(possibleMovesDict[coordinate]) == 1 and tempGame[rowVal,colVal] == 0:\n",
    "            tempGame[rowVal,colVal] = possibleMovesDict[coordinate][0]\n",
    "            counter += 1\n",
    "            valueCounter += 1\n",
    "    filledGame = tempGame\n",
    "    if counter == 0:\n",
    "        continueLooping = False\n",
    "print(\"Was able to fill in {} moves\".format(str(valueCounter)))\n",
    "game = filledGame"
   ]
  },
  {
   "cell_type": "code",
   "execution_count": 442,
   "metadata": {
    "collapsed": false
   },
   "outputs": [],
   "source": [
    "def convert9x9Coordto1x81(coordinate):\n",
    "    xpos,ypos = coordinate\n",
    "    return xpos*(9) + ypos\n",
    "def convert1x81Coordto9x9(value):\n",
    "    return (value//9,value%9)"
   ]
  },
  {
   "cell_type": "code",
   "execution_count": 365,
   "metadata": {
    "collapsed": false
   },
   "outputs": [
    {
     "data": {
      "text/html": [
       "<div>\n",
       "<table border=\"1\" class=\"dataframe\">\n",
       "  <thead>\n",
       "    <tr style=\"text-align: right;\">\n",
       "      <th></th>\n",
       "      <th>0</th>\n",
       "    </tr>\n",
       "  </thead>\n",
       "  <tbody>\n",
       "    <tr>\n",
       "      <th>0</th>\n",
       "      <td>1.0</td>\n",
       "    </tr>\n",
       "    <tr>\n",
       "      <th>0</th>\n",
       "      <td>1.0</td>\n",
       "    </tr>\n",
       "  </tbody>\n",
       "</table>\n",
       "</div>"
      ],
      "text/plain": [
       "     0\n",
       "0  1.0\n",
       "0  1.0"
      ]
     },
     "execution_count": 365,
     "metadata": {},
     "output_type": "execute_result"
    }
   ],
   "source": [
    "combos = pd.DataFrame(columns = [0])\n",
    "combos = combos.append({0:1}, ignore_index=True)\n",
    "pd.concat([combos, combos])\n",
    "#wificode bluelotus502"
   ]
  },
  {
   "cell_type": "code",
   "execution_count": 427,
   "metadata": {
    "collapsed": false
   },
   "outputs": [],
   "source": [
    "combos = pd.DataFrame(columns = [num for num in range(0,81)])\n",
    "combos = combos.append(pd.DataFrame(game.reshape(1,81)), ignore_index = True)\n",
    "combos = combos.append(pd.DataFrame(game.reshape(1,81)), ignore_index = True)\n",
    "coordinate = (0,0)\n",
    "combos[convert9x9Coordto1x81(coordinate)] = possibleMovesDict[coordinate]"
   ]
  },
  {
   "cell_type": "code",
   "execution_count": 428,
   "metadata": {
    "collapsed": false
   },
   "outputs": [
    {
     "data": {
      "text/html": [
       "<div>\n",
       "<table border=\"1\" class=\"dataframe\">\n",
       "  <thead>\n",
       "    <tr style=\"text-align: right;\">\n",
       "      <th></th>\n",
       "      <th>0</th>\n",
       "      <th>1</th>\n",
       "      <th>2</th>\n",
       "      <th>3</th>\n",
       "      <th>4</th>\n",
       "      <th>5</th>\n",
       "      <th>6</th>\n",
       "      <th>7</th>\n",
       "      <th>8</th>\n",
       "      <th>9</th>\n",
       "      <th>...</th>\n",
       "      <th>71</th>\n",
       "      <th>72</th>\n",
       "      <th>73</th>\n",
       "      <th>74</th>\n",
       "      <th>75</th>\n",
       "      <th>76</th>\n",
       "      <th>77</th>\n",
       "      <th>78</th>\n",
       "      <th>79</th>\n",
       "      <th>80</th>\n",
       "    </tr>\n",
       "  </thead>\n",
       "  <tbody>\n",
       "    <tr>\n",
       "      <th>0</th>\n",
       "      <td>7</td>\n",
       "      <td>8.0</td>\n",
       "      <td>4.0</td>\n",
       "      <td>0.0</td>\n",
       "      <td>6.0</td>\n",
       "      <td>0.0</td>\n",
       "      <td>0.0</td>\n",
       "      <td>0.0</td>\n",
       "      <td>1.0</td>\n",
       "      <td>2.0</td>\n",
       "      <td>...</td>\n",
       "      <td>7.0</td>\n",
       "      <td>9.0</td>\n",
       "      <td>0.0</td>\n",
       "      <td>0.0</td>\n",
       "      <td>0.0</td>\n",
       "      <td>2.0</td>\n",
       "      <td>0.0</td>\n",
       "      <td>3.0</td>\n",
       "      <td>6.0</td>\n",
       "      <td>0.0</td>\n",
       "    </tr>\n",
       "    <tr>\n",
       "      <th>1</th>\n",
       "      <td>7</td>\n",
       "      <td>8.0</td>\n",
       "      <td>4.0</td>\n",
       "      <td>0.0</td>\n",
       "      <td>6.0</td>\n",
       "      <td>0.0</td>\n",
       "      <td>0.0</td>\n",
       "      <td>0.0</td>\n",
       "      <td>1.0</td>\n",
       "      <td>2.0</td>\n",
       "      <td>...</td>\n",
       "      <td>7.0</td>\n",
       "      <td>9.0</td>\n",
       "      <td>0.0</td>\n",
       "      <td>0.0</td>\n",
       "      <td>0.0</td>\n",
       "      <td>2.0</td>\n",
       "      <td>0.0</td>\n",
       "      <td>3.0</td>\n",
       "      <td>6.0</td>\n",
       "      <td>0.0</td>\n",
       "    </tr>\n",
       "  </tbody>\n",
       "</table>\n",
       "<p>2 rows × 81 columns</p>\n",
       "</div>"
      ],
      "text/plain": [
       "   0    1    2    3    4    5    6    7    8    9  ...    71   72   73   74  \\\n",
       "0   7  8.0  4.0  0.0  6.0  0.0  0.0  0.0  1.0  2.0 ...   7.0  9.0  0.0  0.0   \n",
       "1   7  8.0  4.0  0.0  6.0  0.0  0.0  0.0  1.0  2.0 ...   7.0  9.0  0.0  0.0   \n",
       "\n",
       "    75   76   77   78   79   80  \n",
       "0  0.0  2.0  0.0  3.0  6.0  0.0  \n",
       "1  0.0  2.0  0.0  3.0  6.0  0.0  \n",
       "\n",
       "[2 rows x 81 columns]"
      ]
     },
     "execution_count": 428,
     "metadata": {},
     "output_type": "execute_result"
    }
   ],
   "source": [
    "combos"
   ]
  },
  {
   "cell_type": "code",
   "execution_count": 454,
   "metadata": {
    "collapsed": false
   },
   "outputs": [
    {
     "data": {
      "text/html": [
       "<div>\n",
       "<table border=\"1\" class=\"dataframe\">\n",
       "  <thead>\n",
       "    <tr style=\"text-align: right;\">\n",
       "      <th></th>\n",
       "      <th>0</th>\n",
       "      <th>1</th>\n",
       "      <th>2</th>\n",
       "      <th>3</th>\n",
       "      <th>4</th>\n",
       "      <th>5</th>\n",
       "      <th>6</th>\n",
       "      <th>7</th>\n",
       "      <th>8</th>\n",
       "      <th>9</th>\n",
       "      <th>...</th>\n",
       "      <th>71</th>\n",
       "      <th>72</th>\n",
       "      <th>73</th>\n",
       "      <th>74</th>\n",
       "      <th>75</th>\n",
       "      <th>76</th>\n",
       "      <th>77</th>\n",
       "      <th>78</th>\n",
       "      <th>79</th>\n",
       "      <th>80</th>\n",
       "    </tr>\n",
       "  </thead>\n",
       "  <tbody>\n",
       "    <tr>\n",
       "      <th>0</th>\n",
       "      <td>7</td>\n",
       "      <td>8.0</td>\n",
       "      <td>4.0</td>\n",
       "      <td>0.0</td>\n",
       "      <td>6.0</td>\n",
       "      <td>0.0</td>\n",
       "      <td>0.0</td>\n",
       "      <td>0.0</td>\n",
       "      <td>1.0</td>\n",
       "      <td>2.0</td>\n",
       "      <td>...</td>\n",
       "      <td>7.0</td>\n",
       "      <td>9.0</td>\n",
       "      <td>0.0</td>\n",
       "      <td>0.0</td>\n",
       "      <td>0.0</td>\n",
       "      <td>2.0</td>\n",
       "      <td>0.0</td>\n",
       "      <td>3.0</td>\n",
       "      <td>6.0</td>\n",
       "      <td>0.0</td>\n",
       "    </tr>\n",
       "    <tr>\n",
       "      <th>1</th>\n",
       "      <td>7</td>\n",
       "      <td>8.0</td>\n",
       "      <td>4.0</td>\n",
       "      <td>0.0</td>\n",
       "      <td>6.0</td>\n",
       "      <td>0.0</td>\n",
       "      <td>0.0</td>\n",
       "      <td>0.0</td>\n",
       "      <td>1.0</td>\n",
       "      <td>2.0</td>\n",
       "      <td>...</td>\n",
       "      <td>7.0</td>\n",
       "      <td>9.0</td>\n",
       "      <td>0.0</td>\n",
       "      <td>0.0</td>\n",
       "      <td>0.0</td>\n",
       "      <td>2.0</td>\n",
       "      <td>0.0</td>\n",
       "      <td>3.0</td>\n",
       "      <td>6.0</td>\n",
       "      <td>0.0</td>\n",
       "    </tr>\n",
       "    <tr>\n",
       "      <th>2</th>\n",
       "      <td>7</td>\n",
       "      <td>8.0</td>\n",
       "      <td>4.0</td>\n",
       "      <td>0.0</td>\n",
       "      <td>6.0</td>\n",
       "      <td>0.0</td>\n",
       "      <td>0.0</td>\n",
       "      <td>0.0</td>\n",
       "      <td>1.0</td>\n",
       "      <td>2.0</td>\n",
       "      <td>...</td>\n",
       "      <td>7.0</td>\n",
       "      <td>9.0</td>\n",
       "      <td>0.0</td>\n",
       "      <td>0.0</td>\n",
       "      <td>0.0</td>\n",
       "      <td>2.0</td>\n",
       "      <td>0.0</td>\n",
       "      <td>3.0</td>\n",
       "      <td>6.0</td>\n",
       "      <td>0.0</td>\n",
       "    </tr>\n",
       "    <tr>\n",
       "      <th>3</th>\n",
       "      <td>7</td>\n",
       "      <td>8.0</td>\n",
       "      <td>4.0</td>\n",
       "      <td>0.0</td>\n",
       "      <td>6.0</td>\n",
       "      <td>0.0</td>\n",
       "      <td>0.0</td>\n",
       "      <td>0.0</td>\n",
       "      <td>1.0</td>\n",
       "      <td>2.0</td>\n",
       "      <td>...</td>\n",
       "      <td>7.0</td>\n",
       "      <td>9.0</td>\n",
       "      <td>0.0</td>\n",
       "      <td>0.0</td>\n",
       "      <td>0.0</td>\n",
       "      <td>2.0</td>\n",
       "      <td>0.0</td>\n",
       "      <td>3.0</td>\n",
       "      <td>6.0</td>\n",
       "      <td>0.0</td>\n",
       "    </tr>\n",
       "  </tbody>\n",
       "</table>\n",
       "<p>4 rows × 81 columns</p>\n",
       "</div>"
      ],
      "text/plain": [
       "   0    1    2    3    4    5    6    7    8    9  ...    71   72   73   74  \\\n",
       "0   7  8.0  4.0  0.0  6.0  0.0  0.0  0.0  1.0  2.0 ...   7.0  9.0  0.0  0.0   \n",
       "1   7  8.0  4.0  0.0  6.0  0.0  0.0  0.0  1.0  2.0 ...   7.0  9.0  0.0  0.0   \n",
       "2   7  8.0  4.0  0.0  6.0  0.0  0.0  0.0  1.0  2.0 ...   7.0  9.0  0.0  0.0   \n",
       "3   7  8.0  4.0  0.0  6.0  0.0  0.0  0.0  1.0  2.0 ...   7.0  9.0  0.0  0.0   \n",
       "\n",
       "    75   76   77   78   79   80  \n",
       "0  0.0  2.0  0.0  3.0  6.0  0.0  \n",
       "1  0.0  2.0  0.0  3.0  6.0  0.0  \n",
       "2  0.0  2.0  0.0  3.0  6.0  0.0  \n",
       "3  0.0  2.0  0.0  3.0  6.0  0.0  \n",
       "\n",
       "[4 rows x 81 columns]"
      ]
     },
     "execution_count": 454,
     "metadata": {},
     "output_type": "execute_result"
    }
   ],
   "source": [
    "newcombos = pd.concat([combos,combos], ignore_index=True)\n",
    "newcombos"
   ]
  },
  {
   "cell_type": "code",
   "execution_count": 425,
   "metadata": {
    "collapsed": false
   },
   "outputs": [
    {
     "ename": "NameError",
     "evalue": "name 'sudoku_utilities' is not defined",
     "output_type": "error",
     "traceback": [
      "\u001b[0;31m---------------------------------------------------------------------------\u001b[0m",
      "\u001b[0;31mNameError\u001b[0m                                 Traceback (most recent call last)",
      "\u001b[0;32m<ipython-input-425-0de01e7336ef>\u001b[0m in \u001b[0;36m<module>\u001b[0;34m()\u001b[0m\n\u001b[1;32m     24\u001b[0m \u001b[0;34m\u001b[0m\u001b[0m\n\u001b[1;32m     25\u001b[0m             \u001b[0mtempList\u001b[0m \u001b[0;34m=\u001b[0m \u001b[0;34m[\u001b[0m\u001b[0;34m]\u001b[0m\u001b[0;34m\u001b[0m\u001b[0m\n\u001b[0;32m---> 26\u001b[0;31m             \u001b[0;32mfor\u001b[0m \u001b[0mcombo\u001b[0m \u001b[0;32min\u001b[0m \u001b[0msudoku_utilities\u001b[0m\u001b[0;34m.\u001b[0m\u001b[0mcomboGenerator\u001b[0m\u001b[0;34m(\u001b[0m\u001b[0mcombos\u001b[0m\u001b[0;34m)\u001b[0m\u001b[0;34m:\u001b[0m\u001b[0;34m\u001b[0m\u001b[0m\n\u001b[0m\u001b[1;32m     27\u001b[0m                 \u001b[0mcomboGameToCheck\u001b[0m \u001b[0;34m=\u001b[0m \u001b[0msudoku_utilities\u001b[0m\u001b[0;34m.\u001b[0m\u001b[0mfillGametoTest\u001b[0m\u001b[0;34m(\u001b[0m\u001b[0mgame\u001b[0m\u001b[0;34m,\u001b[0m \u001b[0mcombo\u001b[0m\u001b[0;34m)\u001b[0m\u001b[0;34m\u001b[0m\u001b[0m\n\u001b[1;32m     28\u001b[0m                 \u001b[0;32mif\u001b[0m \u001b[0msudoku_utilities\u001b[0m\u001b[0;34m.\u001b[0m\u001b[0mcheckGame\u001b[0m\u001b[0;34m(\u001b[0m\u001b[0mcomboGameToCheck\u001b[0m\u001b[0;34m)\u001b[0m\u001b[0;34m:\u001b[0m\u001b[0;34m\u001b[0m\u001b[0m\n",
      "\u001b[0;31mNameError\u001b[0m: name 'sudoku_utilities' is not defined"
     ]
    }
   ],
   "source": [
    "#loop through each coordinate key\n",
    "combos = pd.DataFrame(columns = [num for num in range(0,81)])\n",
    "counter = 0\n",
    "possibleMovesDict = allPossibleMoves(game)\n",
    "for coordinate in possibleMovesDict.keys():\n",
    "    if isinstance(possibleMovesDict[coordinate], list) and len(possibleMovesDict[coordinate]) == 1:\n",
    "        possibleMovesDict[coordinate] = possibleMovesDict[coordinate][0]\n",
    "    counter += 1\n",
    "    if isinstance(possibleMovesDict[coordinate], np.int64) or isinstance(possibleMovesDict[coordinate], int):\n",
    "        if combos.shape[0] == 0:\n",
    "            #append game to combos and set first item in possible moves to the coordinate\n",
    "            combos = combos.append(pd.DataFrame(game.reshape(1,81)), ignore_index = True)\n",
    "        #append all rows in combos dataframe at specified column with value\n",
    "        combos[convert9x9Coordto1x81(coordinate)] = possibleMovesDict[coordinate]\n",
    "\n",
    "    else:\n",
    "        if combos.shape[0] == 0:\n",
    "            for index, value in enumerate(possibleMovesDict[coordinate]):\n",
    "                #append game to combos and set first item in possible moves to the coordinate\n",
    "                combos = combos.append(pd.DataFrame(game.reshape(1,81)), ignore_index = True)\n",
    "                combos.iloc[index,convert9x9Coordto1x81(coordinate)] = value\n",
    "        else:\n",
    "            #each path in combos needs to be printed x times, x being the length of possible moves\n",
    "            fillGametoTest(game, combo)\n",
    "            tempList = []\n",
    "            if sudoku_utilities.checkGame(comboGameToCheck):\n",
    "                for value in possibleMovesDict[coordinate]:\n",
    "                    tempList.append(combo + [(coordinate, value)])\n",
    "            combos = list(tempList)\n",
    "    #print(\"{}/81 squares solved with a total of {} combinations found\".format(len(combos[0]), len(combos)))\n",
    "\n",
    "solutions = []"
   ]
  },
  {
   "cell_type": "code",
   "execution_count": 402,
   "metadata": {
    "collapsed": false
   },
   "outputs": [
    {
     "data": {
      "text/html": [
       "<div>\n",
       "<table border=\"1\" class=\"dataframe\">\n",
       "  <thead>\n",
       "    <tr style=\"text-align: right;\">\n",
       "      <th></th>\n",
       "      <th>0</th>\n",
       "      <th>1</th>\n",
       "      <th>2</th>\n",
       "      <th>3</th>\n",
       "      <th>4</th>\n",
       "      <th>5</th>\n",
       "      <th>6</th>\n",
       "      <th>7</th>\n",
       "      <th>8</th>\n",
       "      <th>9</th>\n",
       "      <th>...</th>\n",
       "      <th>71</th>\n",
       "      <th>72</th>\n",
       "      <th>73</th>\n",
       "      <th>74</th>\n",
       "      <th>75</th>\n",
       "      <th>76</th>\n",
       "      <th>77</th>\n",
       "      <th>78</th>\n",
       "      <th>79</th>\n",
       "      <th>80</th>\n",
       "    </tr>\n",
       "  </thead>\n",
       "  <tbody>\n",
       "    <tr>\n",
       "      <th>0</th>\n",
       "      <td>7</td>\n",
       "      <td>8</td>\n",
       "      <td>4</td>\n",
       "      <td>0.0</td>\n",
       "      <td>6.0</td>\n",
       "      <td>0.0</td>\n",
       "      <td>0.0</td>\n",
       "      <td>0.0</td>\n",
       "      <td>1.0</td>\n",
       "      <td>2.0</td>\n",
       "      <td>...</td>\n",
       "      <td>7.0</td>\n",
       "      <td>9.0</td>\n",
       "      <td>0.0</td>\n",
       "      <td>0.0</td>\n",
       "      <td>0.0</td>\n",
       "      <td>2.0</td>\n",
       "      <td>0.0</td>\n",
       "      <td>3.0</td>\n",
       "      <td>6.0</td>\n",
       "      <td>0.0</td>\n",
       "    </tr>\n",
       "  </tbody>\n",
       "</table>\n",
       "<p>1 rows × 81 columns</p>\n",
       "</div>"
      ],
      "text/plain": [
       "   0   1   2    3    4    5    6    7    8    9  ...    71   72   73   74  \\\n",
       "0   7   8   4  0.0  6.0  0.0  0.0  0.0  1.0  2.0 ...   7.0  9.0  0.0  0.0   \n",
       "\n",
       "    75   76   77   78   79   80  \n",
       "0  0.0  2.0  0.0  3.0  6.0  0.0  \n",
       "\n",
       "[1 rows x 81 columns]"
      ]
     },
     "execution_count": 402,
     "metadata": {},
     "output_type": "execute_result"
    }
   ],
   "source": [
    "combos"
   ]
  },
  {
   "cell_type": "code",
   "execution_count": 103,
   "metadata": {
    "collapsed": false
   },
   "outputs": [
    {
     "data": {
      "text/plain": [
       "True"
      ]
     },
     "execution_count": 103,
     "metadata": {},
     "output_type": "execute_result"
    }
   ],
   "source": [
    "isinstance(possibleMovesDict[(0,0)], np.int64)"
   ]
  },
  {
   "cell_type": "code",
   "execution_count": 162,
   "metadata": {
    "collapsed": false
   },
   "outputs": [
    {
     "name": "stdout",
     "output_type": "stream",
     "text": [
      "(0, 0) [7]\n",
      "(0, 1) 8\n",
      "(0, 2) 4\n",
      "(0, 3) [2, 3, 7]\n",
      "(0, 4) 6\n",
      "(0, 5) [2, 3]\n",
      "(0, 6) [2, 5, 7, 9]\n",
      "(0, 7) [3, 7, 9]\n",
      "(0, 8) 1\n",
      "(1, 0) 2\n",
      "(1, 1) [6, 7]\n",
      "(1, 2) [3, 7]\n",
      "(1, 3) [1, 3, 7]\n",
      "(1, 4) 9\n",
      "(1, 5) 5\n",
      "(1, 6) [7, 8]\n",
      "(1, 7) 4\n",
      "(1, 8) [6, 8]\n",
      "(2, 0) 5\n",
      "(2, 1) 1\n",
      "(2, 2) [3, 7, 9]\n",
      "(2, 3) 4\n",
      "(2, 4) [3, 7]\n",
      "(2, 5) 8\n",
      "(2, 6) [2, 7, 9]\n",
      "(2, 7) [3, 7, 9]\n",
      "(2, 8) [2, 6]\n",
      "(3, 0) 1\n",
      "(3, 1) [4, 7, 9]\n",
      "(3, 2) 5\n",
      "(3, 3) [2, 3, 7, 8]\n",
      "(3, 4) [3, 4, 7, 8]\n",
      "(3, 5) [2, 3, 4, 9]\n",
      "(3, 6) 6\n",
      "(3, 7) [7, 8]\n",
      "(3, 8) [2, 8]\n",
      "(4, 0) 3\n",
      "(4, 1) 2\n",
      "(4, 2) [7, 8]\n",
      "(4, 3) [7, 8]\n",
      "(4, 4) 1\n",
      "(4, 5) [4, 6]\n",
      "(4, 6) [4, 7, 8]\n",
      "(4, 7) 5\n",
      "(4, 8) 9\n",
      "(5, 0) [4, 7, 8]\n",
      "(5, 1) [4, 7, 9]\n",
      "(5, 2) 6\n",
      "(5, 3) [2, 5, 7, 8]\n",
      "(5, 4) [4, 7, 8]\n",
      "(5, 5) [2, 4, 9]\n",
      "(5, 6) 1\n",
      "(5, 7) [7, 8]\n",
      "(5, 8) 3\n",
      "(6, 0) [8]\n",
      "(6, 1) [5]\n",
      "(6, 2) [1, 8]\n",
      "(6, 3) 6\n",
      "(6, 4) [3, 8]\n",
      "(6, 5) 7\n",
      "(6, 6) [5, 8, 9]\n",
      "(6, 7) 2\n",
      "(6, 8) 4\n",
      "(7, 0) [4, 6, 8]\n",
      "(7, 1) 3\n",
      "(7, 2) [1, 2, 8]\n",
      "(7, 3) 9\n",
      "(7, 4) 5\n",
      "(7, 5) [1, 4]\n",
      "(7, 6) [8]\n",
      "(7, 7) [1, 8]\n",
      "(7, 8) 7\n",
      "(8, 0) 9\n",
      "(8, 1) [4, 5, 7]\n",
      "(8, 2) [1, 7, 8]\n",
      "(8, 3) [1, 8]\n",
      "(8, 4) 2\n",
      "(8, 5) [1, 4]\n",
      "(8, 6) 3\n",
      "(8, 7) 6\n",
      "(8, 8) [5, 8]\n"
     ]
    }
   ],
   "source": [
    "for k, v in possibleMovesDict.items():\n",
    "    print(k, v)"
   ]
  },
  {
   "cell_type": "code",
   "execution_count": null,
   "metadata": {
    "collapsed": true
   },
   "outputs": [],
   "source": []
  }
 ],
 "metadata": {
  "kernelspec": {
   "display_name": "Python [conda root]",
   "language": "python",
   "name": "conda-root-py"
  },
  "language_info": {
   "codemirror_mode": {
    "name": "ipython",
    "version": 3
   },
   "file_extension": ".py",
   "mimetype": "text/x-python",
   "name": "python",
   "nbconvert_exporter": "python",
   "pygments_lexer": "ipython3",
   "version": "3.5.2"
  }
 },
 "nbformat": 4,
 "nbformat_minor": 2
}

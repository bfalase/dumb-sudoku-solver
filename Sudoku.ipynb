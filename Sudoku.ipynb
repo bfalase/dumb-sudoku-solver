{
 "cells": [
  {
   "cell_type": "code",
   "execution_count": 319,
   "metadata": {
    "collapsed": true
   },
   "outputs": [],
   "source": [
    "import numpy as np\n",
    "from collections import Counter, OrderedDict\n",
    "from pprint import pprint"
   ]
  },
  {
   "cell_type": "code",
   "execution_count": 281,
   "metadata": {
    "collapsed": true
   },
   "outputs": [],
   "source": [
    "game = np.zeros((9,9))\n",
    "game = game.astype(int)"
   ]
  },
  {
   "cell_type": "code",
   "execution_count": 282,
   "metadata": {
    "collapsed": true
   },
   "outputs": [],
   "source": [
    "fillspots = [(1,2,5),(1,3,7),(1,4,6),(1,5,8),(1,8,4),\n",
    "            (2,5,7),(2,6,1),(2,7,5),\n",
    "            (3,1,3),(3,2,1),(3,3,8),(3,5,2),\n",
    "            (4,2,3),(4,4,4),\n",
    "            (5,1,4),(5,2,9),(5,3,6),(5,4,1),(5,6,5),(5,7,8),(5,8,7),(5,9,2),\n",
    "            (6,6,7),(6,8,9),\n",
    "            (7,5,5),(7,7,2),(7,8,1),(7,9,9),\n",
    "            (8,3,5),(8,4,9),(8,5,4),\n",
    "            (9,2,7),(9,5,1),(9,6,2),(9,7,4),(9,8,3)]"
   ]
  },
  {
   "cell_type": "code",
   "execution_count": 283,
   "metadata": {
    "collapsed": false
   },
   "outputs": [],
   "source": [
    "for points in fillspots:\n",
    "    rowPos, colPos, val = points\n",
    "    game[rowPos-1, colPos-1] = val"
   ]
  },
  {
   "cell_type": "code",
   "execution_count": 284,
   "metadata": {
    "collapsed": false
   },
   "outputs": [
    {
     "data": {
      "text/plain": [
       "array([[0, 5, 7, 6, 8, 0, 0, 4, 0],\n",
       "       [0, 0, 0, 0, 7, 1, 5, 0, 0],\n",
       "       [3, 1, 8, 0, 2, 0, 0, 0, 0],\n",
       "       [0, 3, 0, 4, 0, 0, 0, 0, 0],\n",
       "       [4, 9, 6, 1, 0, 5, 8, 7, 2],\n",
       "       [0, 0, 0, 0, 0, 7, 0, 9, 0],\n",
       "       [0, 0, 0, 0, 5, 0, 2, 1, 9],\n",
       "       [0, 0, 5, 9, 4, 0, 0, 0, 0],\n",
       "       [0, 7, 0, 0, 1, 2, 4, 3, 0]])"
      ]
     },
     "execution_count": 284,
     "metadata": {},
     "output_type": "execute_result"
    }
   ],
   "source": [
    "game"
   ]
  },
  {
   "cell_type": "code",
   "execution_count": 285,
   "metadata": {
    "collapsed": false
   },
   "outputs": [],
   "source": [
    "def checkIfGameWon(gameArray):\n",
    "    if 0 in gameArray:\n",
    "        return False\n",
    "    else: return True\n",
    "def checkForDuplicates(array):\n",
    "    \"\"\"Utility Function.\n",
    "    Arguments:\n",
    "                array: Numpy array\n",
    "    Returns:\n",
    "        Boolean. False if there are no duplicate values in the array. True if there are\n",
    "        \"\"\"\n",
    "    flatArray = array.flatten()\n",
    "    duplicates = [item for item, count in Counter(flatArray).items() if count > 1]\n",
    "    if 0 in duplicates:\n",
    "        duplicates.remove(0)\n",
    "    if len(duplicates) > 0:\n",
    "        return True\n",
    "    else: return False \n",
    "def flattenRowColumnandCube(position, tempGame):\n",
    "    \"\"\"Utility function.\n",
    "    Arguments:\n",
    "                position: Tuple pair of integers\n",
    "    Returns:\n",
    "                flatRow, flatCol, FlatCube: flat (9,) array\n",
    "    \"\"\"\n",
    "    #Get a row and column array\n",
    "    gameRow, gameCol = position\n",
    "    tempGameRow = tempGame[gameRow, :]\n",
    "    tempGameCol = tempGame[:, gameCol]\n",
    "    #get the 9 member square location into its own array\n",
    "    if gameRow >= 0 and gameRow <= 2 and gameCol >= 0 and gameCol <= 2:\n",
    "        tempGameCube = tempGame[0:3, 0:3]\n",
    "    elif gameRow >= 0 and gameRow <= 2 and gameCol >= 3 and gameCol <= 5:\n",
    "        tempGameCube = tempGame[0:3, 3:6]\n",
    "    elif gameRow >= 0 and gameRow <= 2 and gameCol >= 6 and gameCol <= 9:\n",
    "        tempGameCube = tempGame[0:3, 6:9]\n",
    "    elif gameRow >= 3 and gameRow <= 5 and gameCol >= 0 and gameCol <= 2:\n",
    "        tempGameCube = tempGame[3:6, 0:3]\n",
    "    elif gameRow >= 3 and gameRow <= 5 and gameCol >= 3 and gameCol <= 5:\n",
    "        tempGameCube = tempGame[3:6, 3:6]\n",
    "    elif gameRow >= 3 and gameRow <= 5 and gameCol >= 6 and gameCol <= 9:\n",
    "        tempGameCube = tempGame[3:6, 6:9]\n",
    "    elif gameRow >= 6 and gameRow <= 8 and gameCol >= 0 and gameCol <= 2:\n",
    "        tempGameCube = tempGame[6:9, 0:3]\n",
    "    elif gameRow >= 6 and gameRow <= 8 and gameCol >= 3 and gameCol <= 5:\n",
    "        tempGameCube = tempGame[6:9, 3:6]\n",
    "    elif gameRow >= 6 and gameRow <= 8 and gameCol >= 6 and gameCol <= 9:\n",
    "        tempGameCube = tempGame[6:9, 6:9]\n",
    "    return tempGameRow.flatten(), tempGameCol.flatten(), tempGameCube.flatten()\n",
    "def copyGameandSetNumberForTesting(position, value, tempGame):\n",
    "    temporaryGame = tempGame.copy()\n",
    "    gameRow, gameCol = position\n",
    "    temporaryGame[gameRow, gameCol] = value\n",
    "    return temporaryGame\n",
    "def validatenumber(position, value, tempGame):\n",
    "    \"\"\"Utility function. \n",
    "    Arguments: \n",
    "                Position: Tuple pair of integers\n",
    "                Value: Integer. Tentative value to be played\n",
    "    Returns:\n",
    "                validNumber: Boolean. True if value is valid to play in position. False if value is illegal\n",
    "    \"\"\"\n",
    "    tempGameCopytoCheckIfValidNumber = copyGameandSetNumberForTesting(position, value, tempGame)\n",
    "    flatRow, flatCol, flatCube = flattenRowColumnandCube(position, tempGameCopytoCheckIfValidNumber)\n",
    "    if not checkForDuplicates(flatRow) and not checkForDuplicates(flatCol) and not checkForDuplicates(flatCube):\n",
    "        return True\n",
    "    else: return False"
   ]
  },
  {
   "cell_type": "code",
   "execution_count": 295,
   "metadata": {
    "collapsed": false
   },
   "outputs": [
    {
     "name": "stdout",
     "output_type": "stream",
     "text": [
      "(0, 0) [2, 9]\n",
      "(0, 1) [5]\n",
      "(0, 2) [7]\n",
      "(0, 3) [6]\n",
      "(0, 4) [8]\n",
      "(0, 5) [3, 9]\n",
      "(0, 6) [1, 3, 9]\n",
      "(0, 7) [4]\n",
      "(0, 8) [1, 3]\n",
      "(1, 0) [2, 6, 9]\n",
      "(1, 1) [2, 4, 6]\n",
      "(1, 2) [2, 4, 9]\n",
      "(1, 3) [3]\n",
      "(1, 4) [7]\n",
      "(1, 5) [1]\n",
      "(1, 6) [5]\n",
      "(1, 7) [2, 6, 8]\n",
      "(1, 8) [3, 6, 8]\n",
      "(2, 0) [3]\n",
      "(2, 1) [1]\n",
      "(2, 2) [8]\n",
      "(2, 3) [5]\n",
      "(2, 4) [2]\n",
      "(2, 5) [4, 9]\n",
      "(2, 6) [6, 7, 9]\n",
      "(2, 7) [6]\n",
      "(2, 8) [6, 7]\n",
      "(3, 0) [1, 2, 5, 7, 8]\n",
      "(3, 1) [3]\n",
      "(3, 2) [1, 2]\n",
      "(3, 3) [4]\n",
      "(3, 4) [6, 9]\n",
      "(3, 5) [6, 8, 9]\n",
      "(3, 6) [1, 6]\n",
      "(3, 7) [5, 6]\n",
      "(3, 8) [1, 5, 6]\n",
      "(4, 0) [4]\n",
      "(4, 1) [9]\n",
      "(4, 2) [6]\n",
      "(4, 3) [1]\n",
      "(4, 4) [3]\n",
      "(4, 5) [5]\n",
      "(4, 6) [8]\n",
      "(4, 7) [7]\n",
      "(4, 8) [2]\n",
      "(5, 0) [1, 2, 5, 8]\n",
      "(5, 1) [2, 8]\n",
      "(5, 2) [1, 2]\n",
      "(5, 3) [2, 3, 8]\n",
      "(5, 4) [3, 6]\n",
      "(5, 5) [7]\n",
      "(5, 6) [1, 3, 6]\n",
      "(5, 7) [9]\n",
      "(5, 8) [1, 3, 4, 5, 6]\n",
      "(6, 0) [6, 8]\n",
      "(6, 1) [4, 6, 8]\n",
      "(6, 2) [3, 4]\n",
      "(6, 3) [3, 7, 8]\n",
      "(6, 4) [5]\n",
      "(6, 5) [3, 6, 8]\n",
      "(6, 6) [2]\n",
      "(6, 7) [1]\n",
      "(6, 8) [9]\n",
      "(7, 0) [1, 2, 6, 8]\n",
      "(7, 1) [2, 6, 8]\n",
      "(7, 2) [5]\n",
      "(7, 3) [9]\n",
      "(7, 4) [4]\n",
      "(7, 5) [3, 6, 8]\n",
      "(7, 6) [6, 7]\n",
      "(7, 7) [6, 8]\n",
      "(7, 8) [6, 7, 8]\n",
      "(8, 0) [6, 8, 9]\n",
      "(8, 1) [7]\n",
      "(8, 2) [9]\n",
      "(8, 3) [8]\n",
      "(8, 4) [1]\n",
      "(8, 5) [2]\n",
      "(8, 6) [4]\n",
      "(8, 7) [3]\n",
      "(8, 8) [5, 6, 8]\n"
     ]
    }
   ],
   "source": [
    "possibleMovesDict = OrderedDict()\n",
    "#fill possibleMovesDict at position with valid moves\n",
    "for rowPosition in range(game.shape[0]):\n",
    "    for colPosition in range(game.shape[1]):\n",
    "        if game[rowPosition][colPosition] != 0:\n",
    "            possibleMovesDict[(rowPosition,colPosition)] = [game[rowPosition][colPosition]]\n",
    "        else:\n",
    "            possibleMovesDict[(rowPosition,colPosition)] = []\n",
    "            for value in range(1,10):\n",
    "                if validatenumber((rowPosition, colPosition), value, game):\n",
    "                    possibleMovesDict[(rowPosition,colPosition)].append(value)\n",
    "        print((rowPosition,colPosition), possibleMovesDict[(rowPosition,colPosition)])"
   ]
  },
  {
   "cell_type": "code",
   "execution_count": 308,
   "metadata": {
    "collapsed": false
   },
   "outputs": [
    {
     "name": "stdout",
     "output_type": "stream",
     "text": [
      "(0, 0) [2, 9]\n",
      "(0, 1) [5]\n",
      "(0, 2) [7]\n",
      "(0, 3) [6]\n",
      "(0, 4) [8]\n",
      "(0, 5) [3, 9]\n",
      "(0, 6) [1, 3, 9]\n",
      "(0, 7) [4]\n",
      "(0, 8) [1, 3]\n",
      "(1, 0) [2, 6, 9]\n",
      "(1, 1) [2, 4, 6]\n",
      "(1, 2) [2, 4, 9]\n",
      "(1, 3) [3]\n",
      "(1, 4) [7]\n",
      "(1, 5) [1]\n",
      "(1, 6) [5]\n",
      "(1, 7) [2, 6, 8]\n",
      "(1, 8) [3, 6, 8]\n",
      "(2, 0) [3]\n",
      "(2, 1) [1]\n",
      "(2, 2) [8]\n",
      "(2, 3) [5]\n",
      "(2, 4) [2]\n",
      "(2, 5) [4, 9]\n",
      "(2, 6) [6, 7, 9]\n",
      "(2, 7) [6]\n",
      "(2, 8) [6, 7]\n",
      "(3, 0) [1, 2, 5, 7, 8]\n",
      "(3, 1) [3]\n",
      "(3, 2) [1, 2]\n",
      "(3, 3) [4]\n",
      "(3, 4) [6, 9]\n",
      "(3, 5) [6, 8, 9]\n",
      "(3, 6) [1, 6]\n",
      "(3, 7) [5, 6]\n",
      "(3, 8) [1, 5, 6]\n",
      "(4, 0) [4]\n",
      "(4, 1) [9]\n",
      "(4, 2) [6]\n",
      "(4, 3) [1]\n",
      "(4, 4) [3]\n",
      "(4, 5) [5]\n",
      "(4, 6) [8]\n",
      "(4, 7) [7]\n",
      "(4, 8) [2]\n",
      "(5, 0) [1, 2, 5, 8]\n",
      "(5, 1) [2, 8]\n",
      "(5, 2) [1, 2]\n",
      "(5, 3) [2, 3, 8]\n",
      "(5, 4) [3, 6]\n",
      "(5, 5) [7]\n",
      "(5, 6) [1, 3, 6]\n",
      "(5, 7) [9]\n",
      "(5, 8) [1, 3, 4, 5, 6]\n",
      "(6, 0) [6, 8]\n",
      "(6, 1) [4, 6, 8]\n",
      "(6, 2) [3, 4]\n",
      "(6, 3) [3, 7, 8]\n",
      "(6, 4) [5]\n",
      "(6, 5) [3, 6, 8]\n",
      "(6, 6) [2]\n",
      "(6, 7) [1]\n",
      "(6, 8) [9]\n",
      "(7, 0) [1, 2, 6, 8]\n",
      "(7, 1) [2, 6, 8]\n",
      "(7, 2) [5]\n",
      "(7, 3) [9]\n",
      "(7, 4) [4]\n",
      "(7, 5) [3, 6, 8]\n",
      "(7, 6) [6, 7]\n",
      "(7, 7) [6, 8]\n",
      "(7, 8) [6, 7, 8]\n",
      "(8, 0) [6, 8, 9]\n",
      "(8, 1) [7]\n",
      "(8, 2) [9]\n",
      "(8, 3) [8]\n",
      "(8, 4) [1]\n",
      "(8, 5) [2]\n",
      "(8, 6) [4]\n",
      "(8, 7) [3]\n",
      "(8, 8) [5, 6, 8]\n"
     ]
    }
   ],
   "source": [
    "#loop through each coordinate key\n",
    "for coordinate in possibleMovesDict.keys():\n",
    "        print(coordinate, possibleMovesDict[coordinate])"
   ]
  },
  {
   "cell_type": "code",
   "execution_count": 415,
   "metadata": {
    "collapsed": false
   },
   "outputs": [
    {
     "ename": "KeyboardInterrupt",
     "evalue": "",
     "output_type": "error",
     "traceback": [
      "\u001b[0;31m---------------------------------------------------------------------------\u001b[0m",
      "\u001b[0;31mKeyboardInterrupt\u001b[0m                         Traceback (most recent call last)",
      "\u001b[0;32m<ipython-input-415-bcbc7c732219>\u001b[0m in \u001b[0;36m<module>\u001b[0;34m()\u001b[0m\n\u001b[1;32m     16\u001b[0m             \u001b[0;32mfor\u001b[0m \u001b[0mcombo\u001b[0m \u001b[0;32min\u001b[0m \u001b[0mcombos\u001b[0m\u001b[0;34m:\u001b[0m\u001b[0;34m\u001b[0m\u001b[0m\n\u001b[1;32m     17\u001b[0m                 \u001b[0;32mfor\u001b[0m \u001b[0mvalue\u001b[0m \u001b[0;32min\u001b[0m \u001b[0mpossibleMovesDict\u001b[0m\u001b[0;34m[\u001b[0m\u001b[0mcoordinate\u001b[0m\u001b[0;34m]\u001b[0m\u001b[0;34m:\u001b[0m\u001b[0;34m\u001b[0m\u001b[0m\n\u001b[0;32m---> 18\u001b[0;31m                     \u001b[0mtempList\u001b[0m\u001b[0;34m.\u001b[0m\u001b[0mappend\u001b[0m\u001b[0;34m(\u001b[0m\u001b[0mcombo\u001b[0m \u001b[0;34m+\u001b[0m \u001b[0;34m[\u001b[0m\u001b[0;34m(\u001b[0m\u001b[0mcoordinate\u001b[0m\u001b[0;34m,\u001b[0m \u001b[0mvalue\u001b[0m\u001b[0;34m)\u001b[0m\u001b[0;34m]\u001b[0m\u001b[0;34m)\u001b[0m\u001b[0;34m\u001b[0m\u001b[0m\n\u001b[0m\u001b[1;32m     19\u001b[0m             \u001b[0mcombos\u001b[0m \u001b[0;34m=\u001b[0m \u001b[0mlist\u001b[0m\u001b[0;34m(\u001b[0m\u001b[0mtempList\u001b[0m\u001b[0;34m)\u001b[0m\u001b[0;34m\u001b[0m\u001b[0m\n",
      "\u001b[0;31mKeyboardInterrupt\u001b[0m: "
     ]
    }
   ],
   "source": [
    "#loop through each coordinate key\n",
    "combos = []\n",
    "counter = 0\n",
    "for count, coordinate in enumerate(possibleMovesDict.keys()):\n",
    "    counter += 1\n",
    "    if len(possibleMovesDict[coordinate]) == 1:\n",
    "        for combo in combos:\n",
    "            combo.append((coordinate, possibleMovesDict[coordinate][0]))\n",
    "    else:\n",
    "        if len(combos) == 0:\n",
    "            for value in possibleMovesDict[coordinate]:\n",
    "                combos.append([(coordinate, value)])\n",
    "        else:\n",
    "            #each path in combos needs to be printed x times, x being the length of possible moves\n",
    "            tempList = []\n",
    "            for combo in combos:\n",
    "                for value in possibleMovesDict[coordinate]:\n",
    "                    tempList.append(combo + [(coordinate, value)])\n",
    "            combos = list(tempList)"
   ]
  },
  {
   "cell_type": "code",
   "execution_count": 409,
   "metadata": {
    "collapsed": false,
    "scrolled": true
   },
   "outputs": [],
   "source": [
    "def getCombos(combos):\n",
    "    for combo in combos:\n",
    "        yield combo"
   ]
  },
  {
   "cell_type": "code",
   "execution_count": 411,
   "metadata": {
    "collapsed": false
   },
   "outputs": [
    {
     "data": {
      "text/plain": [
       "[((0, 0), 2),\n",
       " ((0, 1), 5),\n",
       " ((0, 2), 7),\n",
       " ((0, 3), 6),\n",
       " ((0, 4), 8),\n",
       " ((0, 5), 3),\n",
       " ((0, 6), 1),\n",
       " ((0, 7), 4),\n",
       " ((0, 8), 1),\n",
       " ((1, 0), 2),\n",
       " ((1, 1), 2),\n",
       " ((1, 2), 2),\n",
       " ((1, 3), 3),\n",
       " ((1, 4), 7),\n",
       " ((1, 5), 1),\n",
       " ((1, 6), 5),\n",
       " ((1, 7), 2),\n",
       " ((1, 8), 3),\n",
       " ((2, 0), 3),\n",
       " ((2, 1), 1),\n",
       " ((2, 2), 8),\n",
       " ((2, 3), 5),\n",
       " ((2, 4), 2),\n",
       " ((2, 5), 4),\n",
       " ((2, 6), 6),\n",
       " ((2, 7), 6),\n",
       " ((2, 8), 6),\n",
       " ((3, 0), 1),\n",
       " ((3, 1), 3),\n",
       " ((3, 2), 1),\n",
       " ((3, 3), 4),\n",
       " ((3, 4), 6),\n",
       " ((3, 5), 6)]"
      ]
     },
     "execution_count": 411,
     "metadata": {},
     "output_type": "execute_result"
    }
   ],
   "source": [
    "next(getCombos(combos))"
   ]
  },
  {
   "cell_type": "code",
   "execution_count": 412,
   "metadata": {
    "collapsed": false
   },
   "outputs": [
    {
     "data": {
      "text/plain": [
       "[((0, 0), 2),\n",
       " ((0, 1), 5),\n",
       " ((0, 2), 7),\n",
       " ((0, 3), 6),\n",
       " ((0, 4), 8),\n",
       " ((0, 5), 3),\n",
       " ((0, 6), 1),\n",
       " ((0, 7), 4),\n",
       " ((0, 8), 1),\n",
       " ((1, 0), 2),\n",
       " ((1, 1), 2),\n",
       " ((1, 2), 2),\n",
       " ((1, 3), 3),\n",
       " ((1, 4), 7),\n",
       " ((1, 5), 1),\n",
       " ((1, 6), 5),\n",
       " ((1, 7), 2),\n",
       " ((1, 8), 3),\n",
       " ((2, 0), 3),\n",
       " ((2, 1), 1),\n",
       " ((2, 2), 8),\n",
       " ((2, 3), 5),\n",
       " ((2, 4), 2),\n",
       " ((2, 5), 4),\n",
       " ((2, 6), 6),\n",
       " ((2, 7), 6),\n",
       " ((2, 8), 6),\n",
       " ((3, 0), 1),\n",
       " ((3, 1), 3),\n",
       " ((3, 2), 1),\n",
       " ((3, 3), 4),\n",
       " ((3, 4), 6),\n",
       " ((3, 5), 6)]"
      ]
     },
     "execution_count": 412,
     "metadata": {},
     "output_type": "execute_result"
    }
   ],
   "source": [
    "next(getCombos(combos))"
   ]
  },
  {
   "cell_type": "code",
   "execution_count": 236,
   "metadata": {
    "collapsed": false
   },
   "outputs": [],
   "source": [
    "\n",
    "for rowPosition in range(game.shape[0]):\n",
    "    for colPosition in range(game.shape[1]):\n",
    "        if game[rowPosition][colPosition] != 0:\n",
    "            #need to add this to a list of valid temp games for this row/col combo\n",
    "        else:\n",
    "            for value in range(1,10):\n",
    "                if validatenumber((rowPosition, colPosition), value, temporaryGame[counter-1]):\n",
    "                    tempGameUpdate = temporaryGame[counter-1]\n",
    "                    tempGameUpdate = copyGameandSetNumberForTesting((rowPosition, colPosition), value, tempGameUpdate)\n",
    "                    temporaryGame.append(tempGameUpdate)\n",
    "                    if checkIfGameWon(tempGameUpdate):\n",
    "                        winningGame = tempGameUpdate\n",
    "                        break         \n",
    "        print(counter, rowPosition, colPosition, len(temporaryGame))\n",
    "        for games in temporaryGame:\n",
    "            print(games)\n",
    "    if checkIfGameWon(temporaryGame):\n",
    "        winningGame = temporaryGame\n",
    "        break "
   ]
  },
  {
   "cell_type": "code",
   "execution_count": null,
   "metadata": {
    "collapsed": true
   },
   "outputs": [],
   "source": [
    "len(combos)"
   ]
  },
  {
   "cell_type": "code",
   "execution_count": 416,
   "metadata": {
    "collapsed": false
   },
   "outputs": [
    {
     "data": {
      "text/plain": [
       "<generator object getCombos at 0x1bd277eb8>"
      ]
     },
     "execution_count": 416,
     "metadata": {},
     "output_type": "execute_result"
    }
   ],
   "source": [
    "getCombos(combos)"
   ]
  },
  {
   "cell_type": "code",
   "execution_count": 420,
   "metadata": {
    "collapsed": false
   },
   "outputs": [
    {
     "data": {
      "text/plain": [
       "[((0, 0), 2),\n",
       " ((0, 1), 5),\n",
       " ((0, 2), 7),\n",
       " ((0, 3), 6),\n",
       " ((0, 4), 8),\n",
       " ((0, 5), 3),\n",
       " ((0, 6), 1),\n",
       " ((0, 7), 4),\n",
       " ((0, 8), 1),\n",
       " ((1, 0), 2),\n",
       " ((1, 1), 2),\n",
       " ((1, 2), 2),\n",
       " ((1, 3), 3),\n",
       " ((1, 4), 7),\n",
       " ((1, 5), 1),\n",
       " ((1, 6), 5),\n",
       " ((1, 7), 2),\n",
       " ((1, 8), 3),\n",
       " ((2, 0), 3),\n",
       " ((2, 1), 1),\n",
       " ((2, 2), 8),\n",
       " ((2, 3), 5),\n",
       " ((2, 4), 2),\n",
       " ((2, 5), 4),\n",
       " ((2, 6), 6),\n",
       " ((2, 7), 6),\n",
       " ((2, 8), 6),\n",
       " ((3, 0), 1),\n",
       " ((3, 1), 3),\n",
       " ((3, 2), 1),\n",
       " ((3, 3), 4),\n",
       " ((3, 4), 6),\n",
       " ((3, 5), 6),\n",
       " ((3, 6), 1),\n",
       " ((3, 7), 5)]"
      ]
     },
     "execution_count": 420,
     "metadata": {},
     "output_type": "execute_result"
    }
   ],
   "source": [
    "next(getCombos(combos))"
   ]
  },
  {
   "cell_type": "code",
   "execution_count": null,
   "metadata": {
    "collapsed": true
   },
   "outputs": [],
   "source": []
  }
 ],
 "metadata": {
  "kernelspec": {
   "display_name": "Python [conda root]",
   "language": "python",
   "name": "conda-root-py"
  },
  "language_info": {
   "codemirror_mode": {
    "name": "ipython",
    "version": 3
   },
   "file_extension": ".py",
   "mimetype": "text/x-python",
   "name": "python",
   "nbconvert_exporter": "python",
   "pygments_lexer": "ipython3",
   "version": "3.5.2"
  }
 },
 "nbformat": 4,
 "nbformat_minor": 2
}

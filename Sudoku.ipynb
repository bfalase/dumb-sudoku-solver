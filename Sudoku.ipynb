{
 "cells": [
  {
   "cell_type": "code",
   "execution_count": 1,
   "metadata": {
    "collapsed": true
   },
   "outputs": [],
   "source": [
    "import numpy as np"
   ]
  },
  {
   "cell_type": "code",
   "execution_count": 22,
   "metadata": {},
   "outputs": [],
   "source": [
    "game = np.zeros((9,9))"
   ]
  },
  {
   "cell_type": "code",
   "execution_count": 23,
   "metadata": {},
   "outputs": [],
   "source": [
    "fillspots = [(1,2,5),(1,3,7),(1,4,6),(1,5,8),(1,8,4),\n",
    "            (2,5,7),(2,6,1),(2,7,5),\n",
    "            (3,1,3),(3,2,1),(3,3,8),(3,5,2),\n",
    "            (4,2,3),(4,4,4),\n",
    "            (5,1,4),(5,2,9),(5,3,6),(5,4,1),(5,6,5),(5,7,8),(5,8,7),(5,9,2),\n",
    "            (6,6,7),(6,8,9),\n",
    "            (7,5,5),(7,7,2),(7,8,1),(7,9,9),\n",
    "            (8,3,5),(8,4,9),(8,5,4),\n",
    "            (9,2,7),(9,5,1),(9,6,2),(9,7,4),(9,8,3)]"
   ]
  },
  {
   "cell_type": "code",
   "execution_count": 26,
   "metadata": {},
   "outputs": [
    {
     "ename": "SyntaxError",
     "evalue": "invalid syntax (<ipython-input-26-0f49a0236347>, line 2)",
     "output_type": "error",
     "traceback": [
      "\u001b[0;36m  File \u001b[0;32m\"<ipython-input-26-0f49a0236347>\"\u001b[0;36m, line \u001b[0;32m2\u001b[0m\n\u001b[0;31m    rowPos, colPos, * = points\u001b[0m\n\u001b[0m                    ^\u001b[0m\n\u001b[0;31mSyntaxError\u001b[0m\u001b[0;31m:\u001b[0m invalid syntax\n"
     ]
    }
   ],
   "source": [
    "for points in fillspots:\n",
    "    rowPos, colPos, * = points\n",
    "    #game[rowPos-1, colPos-1] = val\n",
    "    print rowPos-1, colPos-1, *"
   ]
  },
  {
   "cell_type": "code",
   "execution_count": 25,
   "metadata": {},
   "outputs": [
    {
     "data": {
      "text/plain": [
       "array([[ 0.,  5.,  7.,  6.,  8.,  0.,  0.,  4.,  0.],\n",
       "       [ 0.,  0.,  0.,  0.,  7.,  1.,  5.,  0.,  0.],\n",
       "       [ 3.,  1.,  8.,  0.,  2.,  0.,  0.,  0.,  0.],\n",
       "       [ 0.,  3.,  0.,  4.,  0.,  0.,  0.,  0.,  0.],\n",
       "       [ 4.,  9.,  6.,  1.,  0.,  5.,  8.,  7.,  2.],\n",
       "       [ 0.,  0.,  0.,  0.,  0.,  7.,  0.,  9.,  0.],\n",
       "       [ 0.,  0.,  0.,  0.,  5.,  0.,  2.,  1.,  9.],\n",
       "       [ 0.,  0.,  5.,  9.,  4.,  0.,  0.,  0.,  0.],\n",
       "       [ 0.,  7.,  0.,  0.,  1.,  2.,  4.,  3.,  0.]])"
      ]
     },
     "execution_count": 25,
     "metadata": {},
     "output_type": "execute_result"
    }
   ],
   "source": [
    "game"
   ]
  },
  {
   "cell_type": "code",
   "execution_count": null,
   "metadata": {
    "collapsed": true
   },
   "outputs": [],
   "source": []
  }
 ],
 "metadata": {
  "kernelspec": {
   "display_name": "Python [conda root]",
   "language": "python",
   "name": "conda-root-py"
  },
  "language_info": {
   "codemirror_mode": {
    "name": "ipython",
    "version": 2
   },
   "file_extension": ".py",
   "mimetype": "text/x-python",
   "name": "python",
   "nbconvert_exporter": "python",
   "pygments_lexer": "ipython2",
   "version": "2.7.12"
  }
 },
 "nbformat": 4,
 "nbformat_minor": 2
}

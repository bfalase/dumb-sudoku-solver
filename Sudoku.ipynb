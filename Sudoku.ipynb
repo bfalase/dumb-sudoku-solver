{
 "cells": [
  {
   "cell_type": "code",
   "execution_count": 96,
   "metadata": {
    "collapsed": true
   },
   "outputs": [],
   "source": [
    "import numpy as np\n",
    "from collections import Counter"
   ]
  },
  {
   "cell_type": "code",
   "execution_count": 97,
   "metadata": {
    "collapsed": true
   },
   "outputs": [],
   "source": [
    "game = np.zeros((9,9))"
   ]
  },
  {
   "cell_type": "code",
   "execution_count": 98,
   "metadata": {
    "collapsed": true
   },
   "outputs": [],
   "source": [
    "fillspots = [(1,2,5),(1,3,7),(1,4,6),(1,5,8),(1,8,4),\n",
    "            (2,5,7),(2,6,1),(2,7,5),\n",
    "            (3,1,3),(3,2,1),(3,3,8),(3,5,2),\n",
    "            (4,2,3),(4,4,4),\n",
    "            (5,1,4),(5,2,9),(5,3,6),(5,4,1),(5,6,5),(5,7,8),(5,8,7),(5,9,2),\n",
    "            (6,6,7),(6,8,9),\n",
    "            (7,5,5),(7,7,2),(7,8,1),(7,9,9),\n",
    "            (8,3,5),(8,4,9),(8,5,4),\n",
    "            (9,2,7),(9,5,1),(9,6,2),(9,7,4),(9,8,3)]"
   ]
  },
  {
   "cell_type": "code",
   "execution_count": 99,
   "metadata": {
    "collapsed": false
   },
   "outputs": [],
   "source": [
    "for points in fillspots:\n",
    "    rowPos, colPos, val = points\n",
    "    game[rowPos-1, colPos-1] = val"
   ]
  },
  {
   "cell_type": "code",
   "execution_count": 157,
   "metadata": {
    "collapsed": false
   },
   "outputs": [
    {
     "data": {
      "text/plain": [
       "array([[ 0.,  5.,  7.,  6.,  8.,  0.,  0.,  4.,  0.],\n",
       "       [ 0.,  0.,  0.,  0.,  7.,  1.,  5.,  0.,  0.],\n",
       "       [ 3.,  1.,  8.,  0.,  2.,  0.,  0.,  0.,  0.],\n",
       "       [ 0.,  3.,  0.,  4.,  0.,  0.,  0.,  0.,  0.],\n",
       "       [ 4.,  9.,  6.,  1.,  0.,  5.,  8.,  7.,  2.],\n",
       "       [ 0.,  0.,  0.,  0.,  0.,  7.,  0.,  9.,  0.],\n",
       "       [ 0.,  0.,  0.,  0.,  5.,  0.,  2.,  1.,  9.],\n",
       "       [ 0.,  0.,  5.,  9.,  4.,  0.,  0.,  0.,  0.],\n",
       "       [ 0.,  7.,  0.,  0.,  1.,  2.,  4.,  3.,  0.]])"
      ]
     },
     "execution_count": 157,
     "metadata": {},
     "output_type": "execute_result"
    }
   ],
   "source": [
    "game"
   ]
  },
  {
   "cell_type": "code",
   "execution_count": 151,
   "metadata": {
    "collapsed": false
   },
   "outputs": [],
   "source": [
    "def checkIfGameWon(gameArray):\n",
    "    if 0 in gameArray:\n",
    "        return False\n",
    "    else: return True\n",
    "def checkForDuplicates(array):\n",
    "    \"\"\"Utility Function.\n",
    "    Arguments:\n",
    "                array: Numpy array\n",
    "    Returns:\n",
    "        Boolean. False if there are no duplicate values in the array. True if there are\n",
    "        \"\"\"\n",
    "    flatArray = array.flatten()\n",
    "    duplicates = [item for item, count in Counter(flatArray).items() if count > 1]\n",
    "    if 0 in duplicates:\n",
    "        duplicates.remove(0)\n",
    "    if len(duplicates) > 0:\n",
    "        return True\n",
    "    else: return False \n",
    "def flattenRowColumnandCube(position, tempGame):\n",
    "    \"\"\"Utility function.\n",
    "    Arguments:\n",
    "                position: Tuple pair of integers\n",
    "    Returns:\n",
    "                flatRow, flatCol, FlatCube: flat (9,) array\n",
    "    \"\"\"\n",
    "    #Get a row and column array\n",
    "    gameRow, gameCol = position\n",
    "    tempGameRow = tempGame[gameRow, :]\n",
    "    tempGameCol = tempGame[:, gameCol]\n",
    "    #get the 9 member square location into its own array\n",
    "    if gameRow >= 0 and gameRow <= 2 and gameCol >= 0 and gameCol <= 2:\n",
    "        tempGameCube = tempGame[0:3, 0:3]\n",
    "    elif gameRow >= 0 and gameRow <= 2 and gameCol >= 3 and gameCol <= 5:\n",
    "        tempGameCube = tempGame[0:3, 3:6]\n",
    "    elif gameRow >= 0 and gameRow <= 2 and gameCol >= 6 and gameCol <= 9:\n",
    "        tempGameCube = tempGame[0:3, 6:9]\n",
    "    elif gameRow >= 3 and gameRow <= 5 and gameCol >= 0 and gameCol <= 2:\n",
    "        tempGameCube = tempGame[3:6, 0:3]\n",
    "    elif gameRow >= 3 and gameRow <= 5 and gameCol >= 3 and gameCol <= 5:\n",
    "        tempGameCube = tempGame[3:6, 3:6]\n",
    "    elif gameRow >= 3 and gameRow <= 5 and gameCol >= 6 and gameCol <= 9:\n",
    "        tempGameCube = tempGame[3:6, 6:9]\n",
    "    elif gameRow >= 6 and gameRow <= 8 and gameCol >= 0 and gameCol <= 2:\n",
    "        tempGameCube = tempGame[6:9, 0:3]\n",
    "    elif gameRow >= 6 and gameRow <= 8 and gameCol >= 3 and gameCol <= 5:\n",
    "        tempGameCube = tempGame[6:9, 3:6]\n",
    "    elif gameRow >= 6 and gameRow <= 8 and gameCol >= 6 and gameCol <= 9:\n",
    "        tempGameCube = tempGame[6:9, 6:9]\n",
    "    return tempGameRow.flatten(), tempGameCol.flatten(), tempGameCube.flatten()\n",
    "def copyGameandSetNumberForTesting(position, value):\n",
    "    tempGame = game.copy()\n",
    "    gameRow, gameCol = position\n",
    "    tempGame[gameRow, gameCol] = value\n",
    "    return tempGame\n",
    "def validatenumber(position, value):\n",
    "    \"\"\"Utility function. \n",
    "    Arguments: \n",
    "                Position: Tuple pair of integers\n",
    "                Value: Integer. Tentative value to be played\n",
    "    Returns:\n",
    "                validNumber: Boolean. True if value is valid to play in position. False if value is illegal\n",
    "    \"\"\"\n",
    "    tempGame = copyGameandSetNumberForTesting(position, value)\n",
    "    flatRow, flatCol, flatCube = flattenRowColumnandCube(position, tempGame)\n",
    "    if not checkForDuplicates(flatRow) and not checkForDuplicates(flatCol) and not checkForDuplicates(flatCube):\n",
    "        return True\n",
    "    else: return False"
   ]
  },
  {
   "cell_type": "code",
   "execution_count": null,
   "metadata": {
    "collapsed": true
   },
   "outputs": [],
   "source": [
    "#loop through positions\n",
    "for position in range(game.size):\n",
    "    "
   ]
  },
  {
   "cell_type": "code",
   "execution_count": 166,
   "metadata": {
    "collapsed": false
   },
   "outputs": [
    {
     "data": {
      "text/plain": [
       "81"
      ]
     },
     "execution_count": 166,
     "metadata": {},
     "output_type": "execute_result"
    }
   ],
   "source": []
  },
  {
   "cell_type": "code",
   "execution_count": null,
   "metadata": {
    "collapsed": true
   },
   "outputs": [],
   "source": []
  }
 ],
 "metadata": {
  "kernelspec": {
   "display_name": "Python [conda root]",
   "language": "python",
   "name": "conda-root-py"
  },
  "language_info": {
   "codemirror_mode": {
    "name": "ipython",
    "version": 3
   },
   "file_extension": ".py",
   "mimetype": "text/x-python",
   "name": "python",
   "nbconvert_exporter": "python",
   "pygments_lexer": "ipython3",
   "version": "3.5.2"
  }
 },
 "nbformat": 4,
 "nbformat_minor": 2
}
